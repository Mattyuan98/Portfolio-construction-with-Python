{
 "cells": [
  {
   "cell_type": "markdown",
   "metadata": {},
   "source": [
    "# Black Litterman Model in Python"
   ]
  },
  {
   "cell_type": "markdown",
   "metadata": {},
   "source": [
    "The Black Litterman procedure can be viewed as a bayesian shrinkage method, that shrinks the expected returns constructed from an investor's views on asset returns towards asset returns implied by the market equilibrium. The procedure computes a set of expected returns that uses the market equilibrium implied  as a prior. This is then combined with returns implied by subjective investor views to produce a set of posterior expected returns $\\mu^{BL}$ and covariances $\\Sigma^{BL}$.\n",
    "\n",
    "The obvious attraction of being able to incorporate subjective investor views, the Black-Litterman procedure has a second feature that makes it extremely attractive to portfolio optimization. It is well known that the Markowitz optimization procedure is highly sensitive to estimation errors in Expected Returns and Covariances, and this error maximizing nature of the Markowitz procedure causes unstable portfolios with extreme weights that diverge rapidly from the market equilibrium portfolio even with minor changes to the inputs. However, the posterior parameters $\\mu^{BL}, \\Sigma^{BL}$ computed by the Black Litterman procedure are derived in part from the market portfolio, and therefore are much more pragmatic inputs for purposes of portfolio optimization. "
   ]
  },
  {
   "cell_type": "markdown",
   "metadata": {},
   "source": [
    "\\begin{array}{ll}\n",
    "Q & \\mbox{An $K \\times 1$ ''Qualitative Views'' or simply, Views matrix} \\\\\n",
    "P & \\mbox{A $K \\times N$ ''Projection'' or ''Pick'' matrix, linking each view to the assets} \\\\\n",
    "\\Omega & \\mbox{A Covariance matrix representing the uncertainty of views}\n",
    "\\end{array}\n"
   ]
  },
  {
   "cell_type": "markdown",
   "metadata": {},
   "source": [
    "If the $k$-th views is an absolute view, it is represented by setting $Q_k$ to the expected return of asset $k$ and setting $P_{ki}$ to 1 and all other elements of row $k$ in $P$ to zero"
   ]
  },
  {
   "cell_type": "markdown",
   "metadata": {},
   "source": [
    "If $k$-th view is a relative view, between asset $i$ and $j$ it is represented by setting $Q_k$ to the expected difference of returns between assets $i$ and $j$, and setting $P_{ki}$ to **-1** for the underperforming asset, $P_{kj}$ to **+1** and all other elements of row $k$ in $P$ to zero. $\\Omega$ is either set to the specified uncertainty or is inferred from the user or from the data. HE suggess setting $\\Omega$ to be the diagonal matrix obtained from the diagonal elements of $P \\tau \\Sigma P^T$, which is what we shall do for our initial tests."
   ]
  },
  {
   "cell_type": "markdown",
   "metadata": {},
   "source": [
    "#### The Master Formula\r\n",
    "\r\n",
    "The first step of the procedure is a _reverse-optimization_ step that infers the implied returns vector $\\pi$ that are implied by the equilibrium weights $w$ using the formula:\r\n",
    "\r\n",
    "$$\\pi = \\delta\\Sigma w$$\r\n",
    "\r\n",
    "Next, the posterior returns and covariances are obtained from the _Black-Litterman Master Formula_ which is the following set of equations:\r\n",
    "\r\n",
    "\\begin{equation}\r\n",
    "\\label{eq:blMuOrig}\r\n",
    "\\mu^{BL} = [(\\tau\\Sigma)^{-1} + P \\Omega^{-1} P]^{-1}[(\\tau\\Sigma)^{-1} \\pi + P \\Omega^{-1} Q]\r\n",
    "\\end{equation}\r\n",
    "\r\n",
    "\\begin{equation}\r\n",
    "\\label{eq:blSigmaOrig}\r\n",
    "\\Sigma^{BL} = \\Sigma + [(\\tau\\Sigma)^{-1} + P \\Omega^{-1} P]^{-1}\r\n",
    "\\end{equation}\r\n",
    "\r\n",
    "#### Inverting $\\Omega$\r\n",
    "\r\n",
    "While the master formulas identified in Equation \\ref{eq:blMuOrig} and Equation \\ref{eq:blSigmaOrig} are frequently easy to implement, they do involve the term $\\Omega^{-1}$. Unfortuantely, $\\Omega$ is sometimes non-invertible, which poses difficulties to implement the equations as-is. Fortunately the equations are easily transformed to a form that does not require this troublesome inversion. Therefore, frequently, implementations use the following equivalent versions of these equations which are sometimes computationally more stable, since they do not involve inverting $\\Omega$. Derivations of these alternate forms are provided in the appendices of \\cite{walters2011black}:\r\n",
    "\r\n",
    "\\begin{equation}\r\n",
    "\\label{eq:blMu}\r\n",
    "\\mu^{BL} = \\pi + \\tau \\Sigma P^T[(P \\tau \\Sigma P^T) + \\Omega]^{-1}[Q - P \\pi]\r\n",
    "\\end{equation}\r\n",
    "\r\n",
    "\\begin{equation}\r\n",
    "\\label{eq:blSigma}\r\n",
    "\\Sigma^{BL} = \\Sigma + \\tau \\Sigma - \\tau\\Sigma P^T(P \\tau \\Sigma P^T + \\Omega)^{-1} P \\tau \\Sigma\r\n",
    "\\end{equation}\r\n"
   ]
  },
  {
   "cell_type": "code",
   "execution_count": 1,
   "metadata": {},
   "outputs": [],
   "source": [
    "import numpy as np \r\n",
    "import pandas as pd"
   ]
  },
  {
   "cell_type": "code",
   "execution_count": 2,
   "metadata": {},
   "outputs": [],
   "source": [
    "def as_colvec(x):\r\n",
    "    \"\"\"\r\n",
    "    Helper function. returns the data as a column vector\r\n",
    "    \"\"\"\r\n",
    "    if (x.ndim == 2):\r\n",
    "        return x\r\n",
    "    else:\r\n",
    "        return np.expand_dims(x,axis=1)"
   ]
  },
  {
   "cell_type": "code",
   "execution_count": 3,
   "metadata": {},
   "outputs": [
    {
     "data": {
      "text/plain": [
       "array([0, 1, 2, 3])"
      ]
     },
     "execution_count": 3,
     "metadata": {},
     "output_type": "execute_result"
    }
   ],
   "source": [
    "np.arange(4)"
   ]
  },
  {
   "cell_type": "code",
   "execution_count": 4,
   "metadata": {},
   "outputs": [
    {
     "data": {
      "text/plain": [
       "array([[0],\n",
       "       [1],\n",
       "       [2],\n",
       "       [3]])"
      ]
     },
     "execution_count": 4,
     "metadata": {},
     "output_type": "execute_result"
    }
   ],
   "source": [
    "as_colvec(np.arange(4))"
   ]
  },
  {
   "cell_type": "markdown",
   "metadata": {},
   "source": [
    "Recall that the first step is to reverse engineer the implied retrns vector $\\pi$ from a set of portfolio weights $W$\r\n",
    "\r\n",
    "$\\pi$ = $\\delta \\Sigma W$"
   ]
  },
  {
   "cell_type": "code",
   "execution_count": 5,
   "metadata": {},
   "outputs": [],
   "source": [
    "def implied_returns(delta, sigma,w):\r\n",
    "    \"\"\"\r\n",
    "    Obtain the implied returns by reverse engineering the weights\r\n",
    "    Inputs:\r\n",
    "    delta: risk aversion coef (scalar)\r\n",
    "    sigma: Variance-Covar matrix (N x N) as DataFrame\r\n",
    "    w: portflio weights of returns as Series\r\n",
    "    Returns an N x 1 vector of returns as Series\r\n",
    "    \"\"\"\r\n",
    "    ir = delta * sigma.dot(w).squeeze() # to get a series from a 1-col dataframe\r\n",
    "    ir.name = 'Implied Returns'\r\n",
    "    return ir"
   ]
  },
  {
   "cell_type": "markdown",
   "metadata": {},
   "source": [
    "If the investor cannot have a specific way to explicitly quantify the uncertainly associated with the view in the $\\Omega$ matrix, one can make the assumption that $\\Omega$ is propotional to the variance of the prior.\r\n",
    "Specifically, they suggest that:\r\n",
    "\r\n",
    "$\\Omega$ = $diag(P(\\tau \\Sigma)P^T)$"
   ]
  },
  {
   "cell_type": "code",
   "execution_count": 6,
   "metadata": {},
   "outputs": [],
   "source": [
    "#Assume that Omega is propotional to the variance of the prior\r\n",
    "def propotional_prior(sigma,tau,p):\r\n",
    "    \"\"\"\r\n",
    "    Returns the He-Litterman simplified Omega\r\n",
    "    Inputs:\r\n",
    "    sigma: N x N covar matrix as DataFrame\r\n",
    "    tau: a scalar\r\n",
    "    p: K x N DataFrame linking to Q and assets\r\n",
    "    returns a P x P dataframe, a Marix representing Prior Uncertainties\r\n",
    "    \"\"\"\r\n",
    "    helit_omega = p.dot(tau * sigma).dot(p.T)\r\n",
    "    # Makes a diag matrix from the diag elements of Omega\r\n",
    "    return pd.DataFrame(np.diag(helit_omega.values),index=p.index,columns=p.index)"
   ]
  },
  {
   "cell_type": "code",
   "execution_count": 7,
   "metadata": {},
   "outputs": [],
   "source": [
    "# We use this function to compute the posterior expected returns as follows\r\n",
    "\r\n",
    "from numpy.linalg import inv\r\n",
    "\r\n",
    "def bl(w_prior, sigma_prior, p,q,omega=None,delta=2.5,tau=0.02):\r\n",
    "    \"\"\"\r\n",
    "    Computes the posterior expected returns based on the original black litterman reference model\r\n",
    "    W.prior must be an N x 1 vector of weights, a Series\r\n",
    "    Sigma.prior is an N x N covariance matrix, a DataFrame\r\n",
    "    P must be a K x N matrix linking Q and the Assets, a DataFrame\r\n",
    "    Q must be an K x 1 vector of views, a Series\r\n",
    "    Omega must be a K x K matrix a DataFrame, or None\r\n",
    "    if Omega is None, we assume it is proportional to variance of the prior \r\n",
    "    delta and tau are scalars\r\n",
    "    \"\"\"\r\n",
    "    if omega is None:\r\n",
    "        omega = propotional_prior(sigma_prior,tau,p)\r\n",
    "    \r\n",
    "    #How many assets do we have?\r\n",
    "    N = w_prior.shape[0]\r\n",
    "    #And how many views?\r\n",
    "    K = q.shape[0]\r\n",
    "\r\n",
    "    #First reverse engineering the weights to get the pi\r\n",
    "    pi = implied_returns(delta,sigma_prior,w_prior)\r\n",
    "    #Adjust Sigma by the uncertainty scaling factor\r\n",
    "    sigma_prior_scaled = tau * sigma_prior\r\n",
    "    # posterior estimate of te mean, use the 'Master Formula'\r\n",
    "    # We use the versions that do not require Omega to be inverted\r\n",
    "    #This is easier to read if we use @ for matrixmult instead of .dot()\r\n",
    "    # mu_bl = pi + sigma_prior_scaled @ p.T @ inv(p @ sigma_prior_scaled @ p.T + omega) @ (q - p @ pi)\r\n",
    "    mu_bl = pi + sigma_prior_scaled.dot(p.T).dot(inv(p.dot(sigma_prior_scaled).dot(p.T) + omega).dot(q - p.dot(pi).values))\r\n",
    "    # posterior estimate of uncertainty of mu.bl\r\n",
    "    # sigma_bl = sigma_prior + sigma_prior_scaled - sigma_prior_scaled @ p.T @ inv(p @ sigma_prior_scaled @ p.T + omega) @ p @ sigma_prior_scaled\r\n",
    "    sigma_bl = sigma_prior + sigma_prior_scaled - sigma_prior_scaled.dot(p.T).dot(inv(p.dot(sigma_prior_scaled).dot(p.T) + omega)).dot(p).dot(sigma_prior_scaled)\r\n",
    "    return (mu_bl, sigma_bl)\r\n",
    "    "
   ]
  },
  {
   "cell_type": "markdown",
   "metadata": {},
   "source": [
    "A simpe example: Absolute views\r\n",
    "we start with a siple 2-asset example. Let's start with an example from *Statistical Models and Methods for Financial Markets*\r\n",
    "Consider the portfolio consisting of 2 stocks: Intel and Pfizer\r\n",
    "From the book Table 3.1 on page 72, we obtain the covar matrix(multiplied by $10^4$)\r\n",
    "\r\n",
    "Assume that Interl has a market cap of approximately USD 80B and that of Pfizer is approx USD 100B (this is not required accurate, but works just fine as an example) Thus, if you held a market-cap weighted portfolio you would hold INTC and PFE with the following weights: *$W_{INTC}$* = 80/180 = 44%, *$W_{PFE}$* = 100/180 = 56%. These appear to be reasonable weights wiyhout an extreme allocation to either stock, even though Pfizer is slightly overweighted.\r\n",
    "\r\n",
    "We can compute the equilibruim implied returns $\\Pi$ as follows:"
   ]
  },
  {
   "cell_type": "code",
   "execution_count": 8,
   "metadata": {},
   "outputs": [
    {
     "data": {
      "text/plain": [
       "INTC    0.052084\n",
       "PFE     0.008628\n",
       "Name: Implied Returns, dtype: float64"
      ]
     },
     "execution_count": 8,
     "metadata": {},
     "output_type": "execute_result"
    }
   ],
   "source": [
    "tickers = ['INTC','PFE']\r\n",
    "s = pd.DataFrame([[46,1.06],[1.06,5.33]],index=tickers,columns=tickers)* 10E-4\r\n",
    "pi = implied_returns(delta=2.5,sigma=s,w=pd.Series([.44,.56],index=tickers))\r\n",
    "pi"
   ]
  },
  {
   "cell_type": "markdown",
   "metadata": {},
   "source": [
    "Thus the equilibrium implied returns for INTC are a bit more than 5% and abit less than 1% for PFE.\r\n",
    "\r\n",
    "Assume that investors think that Intel will return 2% anf that Pfizer will return 4%. We can now examine the optimal weights according to the Markowitz procedure. Waht would happen if we use these expected returns to compute the optial max sharp ratio portfolio?\r\n",
    "\r\n",
    "The Max Sharp Ratio Portfolio weights are easily computed in explicit form if there are no constraints on the weights. The weights are given by the expression:\r\n",
    "\r\n",
    "$$ W_{MSR} = \\frac{\\Sigma^{-1}\\mu_e}{\\bf{1}^T \\Sigma^{-1}\\mu_e} $$\r\n",
    "\r\n",
    "where *$\\mu_e$* is the vector of expected returns and $\\Sigma$ is the var-covar matrix.\r\n",
    "\r\n",
    "This is implemented as follows:"
   ]
  },
  {
   "cell_type": "markdown",
   "metadata": {},
   "source": []
  }
 ],
 "metadata": {
  "interpreter": {
   "hash": "ed225720166559e7176d3793db16a2fd8d295f725007103b21ac3099d2a89ee8"
  },
  "kernelspec": {
   "display_name": "Python 3",
   "language": "python",
   "name": "python3"
  },
  "language_info": {
   "codemirror_mode": {
    "name": "ipython",
    "version": 3
   },
   "file_extension": ".py",
   "mimetype": "text/x-python",
   "name": "python",
   "nbconvert_exporter": "python",
   "pygments_lexer": "ipython3",
   "version": "3.7.6"
  }
 },
 "nbformat": 4,
 "nbformat_minor": 4
}
