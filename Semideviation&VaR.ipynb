{
 "cells": [
  {
   "cell_type": "markdown",
   "metadata": {},
   "source": [
    "# Downside"
   ]
  },
  {
   "cell_type": "code",
   "execution_count": 1,
   "metadata": {},
   "outputs": [],
   "source": [
    "import pandas as pd\n",
    "import edhec_risk_ins as eri\n",
    "%load_ext autoreload\n",
    "%autoreload 2\n",
    "%matplotlib inline"
   ]
  },
  {
   "cell_type": "code",
   "execution_count": 2,
   "metadata": {},
   "outputs": [],
   "source": [
    "hfi = eri.get_hfi_returns()"
   ]
  },
  {
   "cell_type": "markdown",
   "metadata": {},
   "source": [
    "# Semideviation"
   ]
  },
  {
   "cell_type": "code",
   "execution_count": 3,
   "metadata": {},
   "outputs": [
    {
     "data": {
      "text/plain": [
       "Convertible Arbitrage     0.016244\n",
       "CTA Global                0.023060\n",
       "Distressed Securities     0.016824\n",
       "Emerging Markets          0.032056\n",
       "Equity Market Neutral     0.007996\n",
       "Event Driven              0.016660\n",
       "Fixed Income Arbitrage    0.011283\n",
       "Global Macro              0.014457\n",
       "Long/Short Equity         0.019793\n",
       "Merger Arbitrage          0.009428\n",
       "Relative Value            0.011277\n",
       "Short Selling             0.046572\n",
       "Funds Of Funds            0.015327\n",
       "dtype: float64"
      ]
     },
     "execution_count": 3,
     "metadata": {},
     "output_type": "execute_result"
    }
   ],
   "source": [
    "hfi.std(ddof=0) #average of upside and downside deviations"
   ]
  },
  {
   "cell_type": "code",
   "execution_count": 4,
   "metadata": {},
   "outputs": [
    {
     "data": {
      "text/plain": [
       "Convertible Arbitrage     0.019283\n",
       "CTA Global                0.012326\n",
       "Distressed Securities     0.014709\n",
       "Emerging Markets          0.027604\n",
       "Equity Market Neutral     0.009329\n",
       "Event Driven              0.015219\n",
       "Fixed Income Arbitrage    0.017452\n",
       "Global Macro              0.006507\n",
       "Long/Short Equity         0.013930\n",
       "Merger Arbitrage          0.008733\n",
       "Relative Value            0.012008\n",
       "Short Selling             0.027048\n",
       "Funds Of Funds            0.011912\n",
       "dtype: float64"
      ]
     },
     "execution_count": 4,
     "metadata": {},
     "output_type": "execute_result"
    }
   ],
   "source": [
    "hfi[hfi<0].std(ddof=0)"
   ]
  },
  {
   "cell_type": "markdown",
   "metadata": {},
   "source": [
    "Filter those returns which are less than zero and then compute the standard deviation of that"
   ]
  },
  {
   "cell_type": "code",
   "execution_count": 5,
   "metadata": {},
   "outputs": [
    {
     "data": {
      "text/plain": [
       "Convertible Arbitrage     0.019283\n",
       "CTA Global                0.012326\n",
       "Distressed Securities     0.014709\n",
       "Emerging Markets          0.027604\n",
       "Equity Market Neutral     0.009329\n",
       "Event Driven              0.015219\n",
       "Fixed Income Arbitrage    0.017452\n",
       "Global Macro              0.006507\n",
       "Long/Short Equity         0.013930\n",
       "Merger Arbitrage          0.008733\n",
       "Relative Value            0.012008\n",
       "Short Selling             0.027048\n",
       "Funds Of Funds            0.011912\n",
       "dtype: float64"
      ]
     },
     "execution_count": 5,
     "metadata": {},
     "output_type": "execute_result"
    }
   ],
   "source": [
    "eri.semideviation(hfi)"
   ]
  },
  {
   "cell_type": "markdown",
   "metadata": {},
   "source": [
    "# VaR and CVaR\n",
    "\n",
    "## Value At Risk\n",
    "\n",
    "+ Historic VaR\n",
    "+ Parametric VaR - Gaussian\n",
    "+ Modified Cornish-Fisher VaR"
   ]
  },
  {
   "cell_type": "code",
   "execution_count": 6,
   "metadata": {},
   "outputs": [],
   "source": [
    "import numpy as np"
   ]
  },
  {
   "cell_type": "code",
   "execution_count": 8,
   "metadata": {},
   "outputs": [
    {
     "data": {
      "text/plain": [
       "array([-0.01485 , -0.031625, -0.01975 , -0.042275, -0.00775 , -0.025475,\n",
       "       -0.007025, -0.014925, -0.026175, -0.010275, -0.01135 , -0.067375,\n",
       "       -0.020275])"
      ]
     },
     "execution_count": 8,
     "metadata": {},
     "output_type": "execute_result"
    }
   ],
   "source": [
    "np.percentile(hfi,5, axis=0)"
   ]
  },
  {
   "cell_type": "markdown",
   "metadata": {},
   "source": [
    "The first number -0.01485 means that Convertible Arbitrage has a 5% risk of lossing 1.5% every given month"
   ]
  },
  {
   "cell_type": "code",
   "execution_count": 11,
   "metadata": {},
   "outputs": [],
   "source": [
    "def var_historic(r,level=5):\n",
    "    \"\"\"\n",
    "    Var Historic\n",
    "    \"\"\"\n",
    "    if isinstance(r,pd.DataFrame): #if is the dataframe, returns True, otherwide false\n",
    "        return r.aggregate(var_historic, level=level)\n",
    "    elif isinstance(r,pd.Series):\n",
    "        return -np.percentile(r,level)\n",
    "    else:\n",
    "        raise TypeError(\"Expected r to be Series or Dataframe\")\n",
    "    \n",
    "    "
   ]
  },
  {
   "cell_type": "code",
   "execution_count": 12,
   "metadata": {},
   "outputs": [
    {
     "data": {
      "text/plain": [
       "Convertible Arbitrage     0.014850\n",
       "CTA Global                0.031625\n",
       "Distressed Securities     0.019750\n",
       "Emerging Markets          0.042275\n",
       "Equity Market Neutral     0.007750\n",
       "Event Driven              0.025475\n",
       "Fixed Income Arbitrage    0.007025\n",
       "Global Macro              0.014925\n",
       "Long/Short Equity         0.026175\n",
       "Merger Arbitrage          0.010275\n",
       "Relative Value            0.011350\n",
       "Short Selling             0.067375\n",
       "Funds Of Funds            0.020275\n",
       "dtype: float64"
      ]
     },
     "execution_count": 12,
     "metadata": {},
     "output_type": "execute_result"
    }
   ],
   "source": [
    "var_historic(hfi)"
   ]
  },
  {
   "cell_type": "code",
   "execution_count": 14,
   "metadata": {},
   "outputs": [
    {
     "data": {
      "text/plain": [
       "Convertible Arbitrage     0.014850\n",
       "CTA Global                0.031625\n",
       "Distressed Securities     0.019750\n",
       "Emerging Markets          0.042275\n",
       "Equity Market Neutral     0.007750\n",
       "Event Driven              0.025475\n",
       "Fixed Income Arbitrage    0.007025\n",
       "Global Macro              0.014925\n",
       "Long/Short Equity         0.026175\n",
       "Merger Arbitrage          0.010275\n",
       "Relative Value            0.011350\n",
       "Short Selling             0.067375\n",
       "Funds Of Funds            0.020275\n",
       "dtype: float64"
      ]
     },
     "execution_count": 14,
     "metadata": {},
     "output_type": "execute_result"
    }
   ],
   "source": [
    "eri.var_historic(hfi)"
   ]
  },
  {
   "cell_type": "code",
   "execution_count": 16,
   "metadata": {},
   "outputs": [
    {
     "data": {
      "text/plain": [
       "-1.6448536269514729"
      ]
     },
     "execution_count": 16,
     "metadata": {},
     "output_type": "execute_result"
    }
   ],
   "source": [
    "from scipy.stats import norm\n",
    "norm.ppf(.05)"
   ]
  },
  {
   "cell_type": "code",
   "execution_count": 17,
   "metadata": {},
   "outputs": [
    {
     "data": {
      "text/plain": [
       "-2.3263478740408408"
      ]
     },
     "execution_count": 17,
     "metadata": {},
     "output_type": "execute_result"
    }
   ],
   "source": [
    "norm.ppf(.01)"
   ]
  },
  {
   "cell_type": "markdown",
   "metadata": {},
   "source": [
    "Critical value for given percentage"
   ]
  },
  {
   "cell_type": "code",
   "execution_count": 18,
   "metadata": {},
   "outputs": [
    {
     "data": {
      "text/plain": [
       "-1.6448536269514729"
      ]
     },
     "execution_count": 18,
     "metadata": {},
     "output_type": "execute_result"
    }
   ],
   "source": [
    "z = norm.ppf(.05)\n",
    "z"
   ]
  },
  {
   "cell_type": "code",
   "execution_count": 20,
   "metadata": {},
   "outputs": [
    {
     "data": {
      "text/plain": [
       "Convertible Arbitrage     0.021192\n",
       "CTA Global                0.033765\n",
       "Distressed Securities     0.021047\n",
       "Emerging Markets          0.046372\n",
       "Equity Market Neutral     0.008798\n",
       "Event Driven              0.021148\n",
       "Fixed Income Arbitrage    0.014277\n",
       "Global Macro              0.018386\n",
       "Long/Short Equity         0.026243\n",
       "Merger Arbitrage          0.010201\n",
       "Relative Value            0.012829\n",
       "Short Selling             0.078522\n",
       "Funds Of Funds            0.020945\n",
       "dtype: float64"
      ]
     },
     "execution_count": 20,
     "metadata": {},
     "output_type": "execute_result"
    }
   ],
   "source": [
    "- (hfi.mean() + z*hfi.std(ddof=0))"
   ]
  },
  {
   "cell_type": "code",
   "execution_count": 21,
   "metadata": {},
   "outputs": [
    {
     "data": {
      "text/plain": [
       "Convertible Arbitrage     0.021192\n",
       "CTA Global                0.033765\n",
       "Distressed Securities     0.021047\n",
       "Emerging Markets          0.046372\n",
       "Equity Market Neutral     0.008798\n",
       "Event Driven              0.021148\n",
       "Fixed Income Arbitrage    0.014277\n",
       "Global Macro              0.018386\n",
       "Long/Short Equity         0.026243\n",
       "Merger Arbitrage          0.010201\n",
       "Relative Value            0.012829\n",
       "Short Selling             0.078522\n",
       "Funds Of Funds            0.020945\n",
       "dtype: float64"
      ]
     },
     "execution_count": 21,
     "metadata": {},
     "output_type": "execute_result"
    }
   ],
   "source": [
    "eri.var_gaussian(hfi)"
   ]
  },
  {
   "cell_type": "code",
   "execution_count": 23,
   "metadata": {},
   "outputs": [
    {
     "data": {
      "text/plain": [
       "<matplotlib.axes._subplots.AxesSubplot at 0x29ac282f588>"
      ]
     },
     "execution_count": 23,
     "metadata": {},
     "output_type": "execute_result"
    },
    {
     "data": {
      "image/png": "[encoded data removed]",
      "text/plain": [
       "<Figure size 432x288 with 1 Axes>"
      ]
     },
     "metadata": {
      "needs_background": "light"
     },
     "output_type": "display_data"
    }
   ],
   "source": [
    "var_list = [eri.var_gaussian(hfi), eri.var_gaussian(hfi, modified=True), eri.var_gaussian(hfi)]\n",
    "comparison=pd.concat(var_list, axis = 1)\n",
    "comparison.columns = [\"Gaussian\",\"Cornish-Fisher\", \"Historic\"]\n",
    "comparison.plot.bar(title=\"EDHEC Hedge Fund Indices: Var\")"
   ]
  },
  {
   "cell_type": "markdown",
   "metadata": {},
   "source": [
    "### Beyond VaR aka CVaR"
   ]
  },
  {
   "cell_type": "code",
   "execution_count": 24,
   "metadata": {},
   "outputs": [
    {
     "data": {
      "text/plain": [
       "Convertible Arbitrage     0.036550\n",
       "CTA Global                0.041264\n",
       "Distressed Securities     0.036693\n",
       "Emerging Markets          0.072364\n",
       "Equity Market Neutral     0.016879\n",
       "Event Driven              0.038564\n",
       "Fixed Income Arbitrage    0.028257\n",
       "Global Macro              0.020629\n",
       "Long/Short Equity         0.042207\n",
       "Merger Arbitrage          0.019143\n",
       "Relative Value            0.024650\n",
       "Short Selling             0.096821\n",
       "Funds Of Funds            0.033207\n",
       "dtype: float64"
      ]
     },
     "execution_count": 24,
     "metadata": {},
     "output_type": "execute_result"
    }
   ],
   "source": [
    "eri.cvar_historic(hfi)"
   ]
  },
  {
   "cell_type": "code",
   "execution_count": null,
   "metadata": {},
   "outputs": [],
   "source": []
  }
 ],
 "metadata": {
  "kernelspec": {
   "display_name": "Python 3",
   "language": "python",
   "name": "python3"
  },
  "language_info": {
   "codemirror_mode": {
    "name": "ipython",
    "version": 3
   },
   "file_extension": ".py",
   "mimetype": "text/x-python",
   "name": "python",
   "nbconvert_exporter": "python",
   "pygments_lexer": "ipython3",
   "version": "3.7.6"
  }
 },
 "nbformat": 4,
 "nbformat_minor": 4
}
