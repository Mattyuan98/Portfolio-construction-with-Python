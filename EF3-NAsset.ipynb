{
 "cells": [
  {
   "cell_type": "markdown",
   "metadata": {},
   "source": [
    "# N-Asset Efficient Frontier"
   ]
  },
  {
   "cell_type": "code",
   "execution_count": 1,
   "metadata": {},
   "outputs": [],
   "source": [
    "%load_ext autoreload\n",
    "%autoreload 2\n",
    "%matplotlib inline\n",
    "import edhec_risk_ins as eri\n",
    "\n",
    "ins30 = eri.get_ins_returns()\n",
    "er = eri.annualize_rets(ins30[\"1996\":\"2000\"],12)\n",
    "cov = ins30[\"1996\":\"2000\"].cov()"
   ]
  },
  {
   "cell_type": "code",
   "execution_count": 2,
   "metadata": {},
   "outputs": [
    {
     "data": {
      "text/plain": [
       "Food     0.116799\n",
       "Beer     0.141126\n",
       "Smoke    0.107830\n",
       "Games    0.068212\n",
       "Books    0.187286\n",
       "Hshld    0.134766\n",
       "Clths    0.079160\n",
       "Hlth     0.246641\n",
       "Chems    0.077456\n",
       "Txtls   -0.042721\n",
       "Cnstr    0.084076\n",
       "Steel    0.115809\n",
       "FabPr    0.108280\n",
       "ElcEq    0.272420\n",
       "Autos    0.080954\n",
       "Carry    0.173904\n",
       "Mines   -0.053554\n",
       "Coal     0.414689\n",
       "Oil      0.165377\n",
       "Util     0.145903\n",
       "Telcm    0.122771\n",
       "Servs    0.175264\n",
       "BusEq    0.271952\n",
       "Paper    0.097163\n",
       "Trans    0.071099\n",
       "Whlsl    0.126431\n",
       "Rtail    0.207247\n",
       "Meals    0.067400\n",
       "Fin      0.223371\n",
       "Other    0.043349\n",
       "dtype: float64"
      ]
     },
     "execution_count": 2,
     "metadata": {},
     "output_type": "execute_result"
    }
   ],
   "source": [
    "er"
   ]
  },
  {
   "cell_type": "markdown",
   "metadata": {},
   "source": [
    "```python\n",
    "def plot_ef(n_points,er,cov):\n",
    "    \"\"\"\n",
    "    plots the N-asset efficient frontier\n",
    "    \"\"\"\n",
    "    weights = MINIMIZE_VOL(target_return) ????\n",
    "    rets = [portfolio_return(w,er) for w in weights]\n",
    "    vols = [portfolio_vol(w,cov) for w in weights]\n",
    "    ef = pd.DataFrame({\n",
    "        \"Returns\":rets,\n",
    "        \"Volatility\":vols\n",
    "    })\n",
    "    return ef.plot.line(x=\"Volatility\", y=\"Returns\", style=\".-\")\n",
    "\n",
    "```"
   ]
  },
  {
   "cell_type": "code",
   "execution_count": 3,
   "metadata": {},
   "outputs": [],
   "source": [
    "from scipy.optimize import minimize"
   ]
  },
  {
   "cell_type": "code",
   "execution_count": 6,
   "metadata": {},
   "outputs": [
    {
     "data": {
      "text/plain": [
       "<matplotlib.axes._subplots.AxesSubplot at 0x2d8f78467c8>"
      ]
     },
     "execution_count": 6,
     "metadata": {},
     "output_type": "execute_result"
    },
    {
     "data": {
      "image/png": "[encoded data removed]",
      "text/plain": [
       "<Figure size 432x288 with 1 Axes>"
      ]
     },
     "metadata": {
      "needs_background": "light"
     },
     "output_type": "display_data"
    }
   ],
   "source": [
    "l = [\"Games\",\"Fin\"]\n",
    "eri.plot_ef2(20,er[l],cov.loc[l,l])"
   ]
  },
  {
   "cell_type": "code",
   "execution_count": 9,
   "metadata": {},
   "outputs": [],
   "source": [
    "import numpy as np\n",
    "\n",
    "def minimize_vol(target_return,er,cov):\n",
    "    \"\"\"\n",
    "    target_return -> Weights Vector\n",
    "    \"\"\"\n",
    "    n = er.shape[0] #figure out how many assets are there?\n",
    "    init_guess = np.repeat(1/n,n)\n",
    "    bounds = ((0.0,1.0),)*n #get a tuple of n tuples((0,1),(0,1)...(0,1)) as a sequence of constraint for each weight\n",
    "    #set the bounds for weights vector \n",
    "    return_is_target = {\n",
    "        'type':'eq',\n",
    "        'args':(er,),\n",
    "        'fun': lambda weights,er:target_return - eri.portfolio_return(weights,er)\n",
    "    } #weights and er are the arguments of lambda function, remember we want the difference so the target return is met. \n",
    "    #set constriants on the target returns equal to the portfolio returns\n",
    "    weights_sum_to_1 = {\n",
    "        'type':'eq',\n",
    "        'fun':lambda weights: np.sum(weights)-1   \n",
    "    }#set constraints that the weights sun to 1\n",
    "    \n",
    "    results = minimize(eri.portfolio_vol,init_guess,\n",
    "                       args=(cov,),method=\"SLSQP\",\n",
    "                       options={'disp':False},\n",
    "                       constraints=(return_is_target, weights_sum_to_1),\n",
    "                       bounds=bounds\n",
    "                      ) #return to the weights that satisfy all the bounds and constraints that we have coded\n",
    "    return results.x"
   ]
  },
  {
   "cell_type": "code",
   "execution_count": 7,
   "metadata": {},
   "outputs": [
    {
     "data": {
      "text/plain": [
       "['Games', 'Fin']"
      ]
     },
     "execution_count": 7,
     "metadata": {},
     "output_type": "execute_result"
    }
   ],
   "source": [
    "l"
   ]
  },
  {
   "cell_type": "code",
   "execution_count": 10,
   "metadata": {},
   "outputs": [
    {
     "data": {
      "text/plain": [
       "0.056163669406706564"
      ]
     },
     "execution_count": 10,
     "metadata": {},
     "output_type": "execute_result"
    }
   ],
   "source": [
    "w15 = minimize_vol(0.15,er[l],cov.loc[l,l]) #find a weights with a target return of 15% in the portfolio\n",
    "vol15 = eri.portfolio_vol(w15,cov.loc[l,l])\n",
    "vol15"
   ]
  },
  {
   "cell_type": "code",
   "execution_count": 11,
   "metadata": {},
   "outputs": [
    {
     "data": {
      "text/plain": [
       "array([0.47287631, 0.52712369])"
      ]
     },
     "execution_count": 11,
     "metadata": {},
     "output_type": "execute_result"
    }
   ],
   "source": [
    "w15 #if you put the 0.47 and 0.53 in the portfolio, we will get 15% expected reuturn with minimize vol "
   ]
  },
  {
   "cell_type": "code",
   "execution_count": 11,
   "metadata": {},
   "outputs": [
    {
     "data": {
      "text/plain": [
       "0.056163669406706564"
      ]
     },
     "execution_count": 11,
     "metadata": {},
     "output_type": "execute_result"
    }
   ],
   "source": [
    "w15 = eri.minimize_vol(0.15,er[l],cov.loc[l,l])\n",
    "vol15 = eri.portfolio_vol(w15,cov.loc[l,l])\n",
    "vol15"
   ]
  },
  {
   "cell_type": "code",
   "execution_count": 12,
   "metadata": {},
   "outputs": [],
   "source": [
    "import pandas as pd\n",
    "def optimal_weights(n_points,er,cov):\n",
    "    \"\"\"\n",
    "    -> list of weights to run the optimizer on to minimize the vol\n",
    "    \"\"\"\n",
    "    target_rets = np.linspace(er.min(),er.max(),n_points)\n",
    "    weights = [minimize_vol(target_return,er,cov) for target_return in target_rets]\n",
    "    return weights\n",
    "\n",
    "def plot_ef(n_points,er,cov):\n",
    "    \"\"\"\n",
    "    plots the multi-asset efficient frontier\n",
    "    \"\"\"\n",
    "    weights = optimal_weights(n_points,er,cov)\n",
    "    rets = [eri.portfolio_return(w,er) for w in weights]\n",
    "    vols = [eri.portfolio_vol(w,cov) for w in weights]\n",
    "    ef = pd.DataFrame({\n",
    "        \"Returns\":rets,\n",
    "        \"Volatility\":vols\n",
    "    })\n",
    "    return ef.plot.line(x=\"Volatility\", y=\"Returns\", style=\".-\")\n"
   ]
  },
  {
   "cell_type": "code",
   "execution_count": 16,
   "metadata": {},
   "outputs": [
    {
     "data": {
      "text/plain": [
       "Games    0.068212\n",
       "Fin      0.223371\n",
       "dtype: float64"
      ]
     },
     "execution_count": 16,
     "metadata": {},
     "output_type": "execute_result"
    }
   ],
   "source": [
    "er[l]"
   ]
  },
  {
   "cell_type": "code",
   "execution_count": 15,
   "metadata": {},
   "outputs": [
    {
     "data": {
      "text/plain": [
       "[array([1., 0.]),\n",
       " array([0.88888889, 0.11111111]),\n",
       " array([0.77777778, 0.22222222]),\n",
       " array([0.66666667, 0.33333333]),\n",
       " array([0.55555556, 0.44444444]),\n",
       " array([0.44444444, 0.55555556]),\n",
       " array([0.33333333, 0.66666667]),\n",
       " array([0.22222222, 0.77777778]),\n",
       " array([0.11111111, 0.88888889]),\n",
       " array([0., 1.])]"
      ]
     },
     "execution_count": 15,
     "metadata": {},
     "output_type": "execute_result"
    }
   ],
   "source": [
    "optimal_weights(10,er[l],cov.loc[l,l])"
   ]
  },
  {
   "cell_type": "code",
   "execution_count": 14,
   "metadata": {},
   "outputs": [
    {
     "data": {
      "text/plain": [
       "<matplotlib.axes._subplots.AxesSubplot at 0x1aa6b5c7248>"
      ]
     },
     "execution_count": 14,
     "metadata": {},
     "output_type": "execute_result"
    },
    {
     "data": {
      "image/png": "[encoded data removed]",
      "text/plain": [
       "<Figure size 432x288 with 1 Axes>"
      ]
     },
     "metadata": {
      "needs_background": "light"
     },
     "output_type": "display_data"
    }
   ],
   "source": [
    "l = [\"Smoke\", \"Fin\", \"Games\", \"Coal\"]\n",
    "plot_ef(25,er[l],cov.loc[l,l])"
   ]
  },
  {
   "cell_type": "code",
   "execution_count": 15,
   "metadata": {},
   "outputs": [
    {
     "data": {
      "text/plain": [
       "<matplotlib.axes._subplots.AxesSubplot at 0x1aa6ac62388>"
      ]
     },
     "execution_count": 15,
     "metadata": {},
     "output_type": "execute_result"
    },
    {
     "data": {
      "image/png": "[encoded data removed]",
      "text/plain": [
       "<Figure size 432x288 with 1 Axes>"
      ]
     },
     "metadata": {
      "needs_background": "light"
     },
     "output_type": "display_data"
    }
   ],
   "source": [
    "l = [\"Smoke\", \"Fin\", \"Games\", \"Coal\"]\n",
    "eri.plot_ef(25,er[l],cov.loc[l,l])"
   ]
  },
  {
   "cell_type": "code",
   "execution_count": null,
   "metadata": {},
   "outputs": [],
   "source": []
  }
 ],
 "metadata": {
  "kernelspec": {
   "display_name": "Python 3",
   "language": "python",
   "name": "python3"
  },
  "language_info": {
   "codemirror_mode": {
    "name": "ipython",
    "version": 3
   },
   "file_extension": ".py",
   "mimetype": "text/x-python",
   "name": "python",
   "nbconvert_exporter": "python",
   "pygments_lexer": "ipython3",
   "version": "3.7.6"
  }
 },
 "nbformat": 4,
 "nbformat_minor": 4
}
